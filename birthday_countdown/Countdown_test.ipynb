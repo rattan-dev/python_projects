{
 "cells": [
  {
   "cell_type": "code",
   "execution_count": 12,
   "metadata": {},
   "outputs": [
    {
     "name": "stdout",
     "output_type": "stream",
     "text": [
      "Enter your birth date\n",
      "2006-10-09\n",
      "2025-01-24\n"
     ]
    }
   ],
   "source": [
    "#creating a birthday countdown\n",
    "import datetime\n",
    "import time\n",
    "\n",
    "def get_birth_day():\n",
    "    print(\"Enter your birth date\")\n",
    "    year = int(input(\"Year: \"))\n",
    "    month = int(input(\"Month: \"))\n",
    "    day = int(input(\"Day: \"))\n",
    "    return datetime.date(year, month, day)\n",
    "x=get_birth_day()\n",
    "print(x)\n",
    "current_date = datetime.date.today()\n",
    "print(current_date)\n"
   ]
  },
  {
   "cell_type": "code",
   "execution_count": 13,
   "metadata": {},
   "outputs": [
    {
     "name": "stdout",
     "output_type": "stream",
     "text": [
      "2025-10-09\n"
     ]
    }
   ],
   "source": [
    "#calculating the number of days left\n",
    "if current_date.month < x.month:\n",
    "    next_birthday = datetime.date(current_date.year, x.month, x.day)\n",
    "elif current_date.month == x.month and current_date.day <= x.day:\n",
    "    next_birthday = datetime.date(current_date.year, x.month, x.day)\n",
    "else:\n",
    "    next_birthday = datetime.date(current_date.year + 1, x.month, x.day)\n",
    "print(next_birthday)"
   ]
  },
  {
   "cell_type": "code",
   "execution_count": 15,
   "metadata": {},
   "outputs": [
    {
     "name": "stdout",
     "output_type": "stream",
     "text": [
      "258 days, 0:00:00\n"
     ]
    }
   ],
   "source": [
    "#getting the number of days left\n",
    "days_left = next_birthday - current_date\n",
    "print(days_left)"
   ]
  },
  {
   "cell_type": "code",
   "execution_count": 25,
   "metadata": {},
   "outputs": [
    {
     "name": "stdout",
     "output_type": "stream",
     "text": [
      "Time left: 257 days, 15 hours, 13 minutes, 17 seconds\n",
      "Time left: 257 days, 15 hours, 13 minutes, 16 seconds\n",
      "Time left: 257 days, 15 hours, 13 minutes, 15 seconds\n",
      "Time left: 257 days, 15 hours, 13 minutes, 14 seconds\n",
      "Time left: 257 days, 15 hours, 13 minutes, 13 seconds\n",
      "Time left: 257 days, 15 hours, 13 minutes, 12 seconds\n",
      "Time left: 257 days, 15 hours, 13 minutes, 11 seconds\n",
      "Time left: 257 days, 15 hours, 13 minutes, 10 seconds\n",
      "Time left: 257 days, 15 hours, 13 minutes, 9 seconds\n",
      "Time left: 257 days, 15 hours, 13 minutes, 8 seconds\n",
      "Time left: 257 days, 15 hours, 13 minutes, 7 seconds\n",
      "Time left: 257 days, 15 hours, 13 minutes, 6 seconds\n",
      "Time left: 257 days, 15 hours, 13 minutes, 5 seconds\n",
      "Time left: 257 days, 15 hours, 13 minutes, 4 seconds\n",
      "Time left: 257 days, 15 hours, 13 minutes, 3 seconds\n",
      "Time left: 257 days, 15 hours, 13 minutes, 2 seconds\n",
      "Time left: 257 days, 15 hours, 13 minutes, 1 seconds\n",
      "Time left: 257 days, 15 hours, 13 minutes, 0 seconds\n",
      "Time left: 257 days, 15 hours, 12 minutes, 59 seconds\n",
      "Time left: 257 days, 15 hours, 12 minutes, 58 seconds\n",
      "Time left: 257 days, 15 hours, 12 minutes, 57 seconds\n"
     ]
    },
    {
     "ename": "KeyboardInterrupt",
     "evalue": "",
     "output_type": "error",
     "traceback": [
      "\u001b[1;31m---------------------------------------------------------------------------\u001b[0m",
      "\u001b[1;31mKeyboardInterrupt\u001b[0m                         Traceback (most recent call last)",
      "Cell \u001b[1;32mIn[25], line 16\u001b[0m\n\u001b[0;32m     14\u001b[0m     minutes, seconds \u001b[38;5;241m=\u001b[39m \u001b[38;5;28mdivmod\u001b[39m(remainder, \u001b[38;5;241m60\u001b[39m)\n\u001b[0;32m     15\u001b[0m     \u001b[38;5;28mprint\u001b[39m(\u001b[38;5;124mf\u001b[39m\u001b[38;5;124m\"\u001b[39m\u001b[38;5;124mTime left: \u001b[39m\u001b[38;5;132;01m{\u001b[39;00mdays\u001b[38;5;132;01m}\u001b[39;00m\u001b[38;5;124m days, \u001b[39m\u001b[38;5;132;01m{\u001b[39;00mhours\u001b[38;5;132;01m}\u001b[39;00m\u001b[38;5;124m hours, \u001b[39m\u001b[38;5;132;01m{\u001b[39;00mminutes\u001b[38;5;132;01m}\u001b[39;00m\u001b[38;5;124m minutes, \u001b[39m\u001b[38;5;132;01m{\u001b[39;00mseconds\u001b[38;5;132;01m}\u001b[39;00m\u001b[38;5;124m seconds\u001b[39m\u001b[38;5;124m\"\u001b[39m)\n\u001b[1;32m---> 16\u001b[0m     time\u001b[38;5;241m.\u001b[39msleep(\u001b[38;5;241m1\u001b[39m)\n\u001b[0;32m     17\u001b[0m \u001b[38;5;28mprint\u001b[39m(\u001b[38;5;124m\"\u001b[39m\u001b[38;5;124mHappy Birthday\u001b[39m\u001b[38;5;124m\"\u001b[39m)\n",
      "\u001b[1;31mKeyboardInterrupt\u001b[0m: "
     ]
    }
   ],
   "source": [
    "next_birthday_datetime = datetime.datetime.combine(next_birthday, datetime.datetime.min.time())\n",
    "\n",
    "while days_left.days > 0 or days_left.seconds > 0:\n",
    "    current_date = datetime.datetime.now()\n",
    "    countdown = next_birthday_datetime - current_date\n",
    "    days = countdown.days\n",
    "    hours, remainder = divmod(countdown.seconds, 3600)\n",
    "    minutes, seconds = divmod(remainder, 60)\n",
    "    print(f\"Time left: {days} days, {hours} hours, {minutes} minutes, {seconds} seconds\")\n",
    "    time.sleep(1)\n",
    "print(\"Happy Birthday\")\n"
   ]
  },
  {
   "cell_type": "code",
   "execution_count": null,
   "metadata": {},
   "outputs": [],
   "source": []
  }
 ],
 "metadata": {
  "kernelspec": {
   "display_name": "base",
   "language": "python",
   "name": "python3"
  },
  "language_info": {
   "codemirror_mode": {
    "name": "ipython",
    "version": 3
   },
   "file_extension": ".py",
   "mimetype": "text/x-python",
   "name": "python",
   "nbconvert_exporter": "python",
   "pygments_lexer": "ipython3",
   "version": "3.12.4"
  }
 },
 "nbformat": 4,
 "nbformat_minor": 2
}
